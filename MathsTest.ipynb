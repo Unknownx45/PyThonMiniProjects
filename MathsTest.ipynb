{
 "cells": [
  {
   "cell_type": "code",
   "execution_count": 1,
   "id": "2ea6d1cc",
   "metadata": {},
   "outputs": [],
   "source": [
    "import random\n",
    "import time"
   ]
  },
  {
   "cell_type": "code",
   "execution_count": 2,
   "id": "b79d7757",
   "metadata": {},
   "outputs": [],
   "source": [
    "Operators=[\"+\",\"-\",\"*\"]\n",
    "Min_operands=3\n",
    "Max_operands=12\n",
    "Total_problems=10"
   ]
  },
  {
   "cell_type": "code",
   "execution_count": 3,
   "id": "65377e8c",
   "metadata": {},
   "outputs": [],
   "source": [
    "def generate_problem():\n",
    "    left= random.randint(Min_operands,Max_operands)\n",
    "    right= random.randint(Min_operands,Max_operands)\n",
    "    Operator=random.choice(Operators)\n",
    "\n",
    "    exp=str(left)+\" \"+Operator+\" \"+str(right)+\" \"+Operator+\" \"+str(right)\n",
    "    answer=eval(exp)\n",
    "    return exp,answer"
   ]
  },
  {
   "cell_type": "code",
   "execution_count": 4,
   "id": "cf4b7624",
   "metadata": {},
   "outputs": [],
   "source": [
    "wrong=0"
   ]
  },
  {
   "cell_type": "code",
   "execution_count": 5,
   "id": "31d9c6b7",
   "metadata": {},
   "outputs": [
    {
     "name": "stdout",
     "output_type": "stream",
     "text": [
      "Let's start the test!\n",
      "-----------------\n",
      "Test is completed! Here is summary:\n",
      "------------------------------------------\n",
      "YOU've completed your test in  94.86  seconds\n",
      "Your test Score is:  10\n",
      "\n",
      "You've reattempt the questions:  2  times\n"
     ]
    }
   ],
   "source": [
    "input(\"press to start!\")\n",
    "print(\"Let's start the test!\")\n",
    "print(\"-----------------\")\n",
    "\n",
    "start_time= time.time()\n",
    "score=0\n",
    "\n",
    "for i in range(Total_problems):\n",
    "    expr,answer=generate_problem()\n",
    "    while True:\n",
    "        guess=input(\"Problem #\"+ str(i+1) +\": \"+ expr + \" = \")\n",
    "        if guess==str(answer):\n",
    "            score+=1\n",
    "            break\n",
    "        wrong+=1\n",
    "    \n",
    "\n",
    "end_time=time.time()\n",
    "total_time=round(end_time - start_time,2)\n",
    "\n",
    "print(\"Test is completed! Here is summary:\")\n",
    "print(\"------------------------------------------\")\n",
    "print(\"YOU've completed your test in \", total_time, \" seconds\")\n",
    "print(\"Your test Score is: \",score)\n",
    "print(\"\\nYou've reattempt the questions: \",wrong,\" times\")"
   ]
  }
 ],
 "metadata": {
  "kernelspec": {
   "display_name": "Python 3",
   "language": "python",
   "name": "python3"
  },
  "language_info": {
   "codemirror_mode": {
    "name": "ipython",
    "version": 3
   },
   "file_extension": ".py",
   "mimetype": "text/x-python",
   "name": "python",
   "nbconvert_exporter": "python",
   "pygments_lexer": "ipython3",
   "version": "3.13.7"
  }
 },
 "nbformat": 4,
 "nbformat_minor": 5
}
