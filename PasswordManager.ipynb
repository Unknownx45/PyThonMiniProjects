{
  "nbformat": 4,
  "nbformat_minor": 0,
  "metadata": {
    "colab": {
      "provenance": []
    },
    "kernelspec": {
      "name": "python3",
      "display_name": "Python 3"
    },
    "language_info": {
      "name": "python"
    }
  },
  "cells": [
    {
      "cell_type": "code",
      "source": [
        "from cryptography.fernet import Fernet"
      ],
      "metadata": {
        "id": "6WqLN8BTyzmc"
      },
      "execution_count": null,
      "outputs": []
    },
    {
      "cell_type": "code",
      "source": [
        "def write_key():\n",
        "  key=Fernet.generate_key()\n",
        "  with open(\"key.key\",\"wb\") as key_file:\n",
        "    key_file.write(key)"
      ],
      "metadata": {
        "id": "OnW8-dX15msN"
      },
      "execution_count": null,
      "outputs": []
    },
    {
      "cell_type": "code",
      "source": [
        "#write_key()"
      ],
      "metadata": {
        "id": "ZeIRBPDN53em"
      },
      "execution_count": null,
      "outputs": []
    },
    {
      "cell_type": "code",
      "source": [
        "def load_key():\n",
        "  file=open(\"key.key\",\"rb\")\n",
        "  key=file.read()\n",
        "  file.close()\n",
        "  return key"
      ],
      "metadata": {
        "id": "m0p9H-rl57Ix"
      },
      "execution_count": null,
      "outputs": []
    },
    {
      "cell_type": "code",
      "source": [
        "key = load_key()\n",
        "fer = Fernet(key)"
      ],
      "metadata": {
        "id": "Fq-nzZVW6KIT"
      },
      "execution_count": null,
      "outputs": []
    },
    {
      "cell_type": "code",
      "source": [
        "def view():\n",
        "  with open(\"passwords.txt\",\"r\") as f:\n",
        "    for line in f.readlines():\n",
        "      data=line.rstrip()\n",
        "      user,passw=data.split(\"|\")\n",
        "      print(\"User:\",user,\"Password:\",fer.decrypt(passw.encode()).decode())"
      ],
      "metadata": {
        "id": "tPdRcIDZ6QD7"
      },
      "execution_count": null,
      "outputs": []
    },
    {
      "cell_type": "code",
      "source": [
        "def add():\n",
        "  name=input('Account Name: ')\n",
        "  pwd=input('Password: ')\n",
        "\n",
        "  with open(\"passwords.txt\",\"a\") as f:\n",
        "    f.write(name+\"|\"+fer.encrypt(pwd.encode()).decode()+\"\\n\")"
      ],
      "metadata": {
        "id": "izjCCnOZ6bfr"
      },
      "execution_count": null,
      "outputs": []
    },
    {
      "cell_type": "code",
      "source": [
        "while True:\n",
        "  mode=input(\"would you like to add a new password or view existing ones (view,add), press q to quit?\").lower()\n",
        "  if mode==\"q\":\n",
        "    break\n",
        "  if mode==\"view\":\n",
        "    view()\n",
        "  elif mode==\"add\":\n",
        "    add()\n",
        "  else:\n",
        "    print(\"Invalid Mode\")\n",
        "    continue"
      ],
      "metadata": {
        "colab": {
          "base_uri": "https://localhost:8080/"
        },
        "id": "SS6FWPJA66HC",
        "outputId": "21133204-8a75-4005-c9bc-b560e2d16ede"
      },
      "execution_count": null,
      "outputs": [
        {
          "name": "stdout",
          "output_type": "stream",
          "text": [
            "would you like to add a new password or view existing ones (view,add), press q to quit?add\n",
            "Account Name: facebook\n",
            "Password: xyz2123456789\n",
            "would you like to add a new password or view existing ones (view,add), press q to quit?view\n",
            "User: facebook Password: xyz2123456789\n",
            "would you like to add a new password or view existing ones (view,add), press q to quit?q\n"
          ]
        }
      ]
    }
  ]
}