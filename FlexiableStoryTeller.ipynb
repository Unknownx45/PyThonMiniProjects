{
  "cells": [
    {
      "cell_type": "code",
      "execution_count": 1,
      "metadata": {
        "id": "uKWIa5pH9yu6"
      },
      "outputs": [],
      "source": [
        "with open(\"Story.txt\",\"r\") as f:\n",
        "  Story=f.read()"
      ]
    },
    {
      "cell_type": "code",
      "execution_count": 2,
      "metadata": {
        "colab": {
          "base_uri": "https://localhost:8080/"
        },
        "id": "DvXzp4M_DYEi",
        "outputId": "0d9be47f-21d0-4528-85a2-d9708de0495b"
      },
      "outputs": [
        {
          "name": "stdout",
          "output_type": "stream",
          "text": [
            "Last <day of the week>, my friend <name> and I decided to go to the <place>. \n",
            "When we got there, we saw a <adjective> <animal> wearing a <color> <piece of clothing>! \n",
            "The <animal> was <verb ending in -ing> around the <noun> while eating a <food item>. \n",
            "\n",
            "Suddenly, a <adjective> <person (like teacher, doctor, etc.)> appeared and shouted, \n",
            "\"<exclamation>! That <animal> stole my <noun>!\" \n",
            "\n",
            "<name> and I looked at each other and decided to <verb> as <adverb> as possible. \n",
            "We ran through the <place> for <number> minutes until we found a <adjective> \n",
            "<vehicle> to hide behind.\n",
            "\n",
            "From there, we could see the <animal> <verb ending in -ing> with a <noun> \n",
            "in its mouth. The <person> was chasing it while holding a <tool or weapon>. \n",
            "It was the most <adjective> thing I had ever seen!\n",
            "\n",
            "Finally, the <person> caught the <animal> and retrieved the stolen <noun>. \n",
            "Everyone at the <place> started <verb ending in -ing> and cheering. \n",
            "<name> and I decided it was time to go home and eat some <food item>.\n",
            "\n",
            "What a <adjective> day!\n"
          ]
        }
      ],
      "source": [
        "print(Story)"
      ]
    },
    {
      "cell_type": "code",
      "execution_count": 3,
      "metadata": {
        "id": "a6Zr86cvAHFu"
      },
      "outputs": [],
      "source": [
        "words=set()\n",
        "start_of_words=-1\n",
        "target_start=\"<\"\n",
        "target_end=\">\""
      ]
    },
    {
      "cell_type": "code",
      "execution_count": 4,
      "metadata": {
        "id": "dhWsH-LgAc2N"
      },
      "outputs": [],
      "source": [
        "for i, char in enumerate(Story):\n",
        "  if char==target_start:\n",
        "    start_of_words=i\n",
        "  elif char==target_end and start_of_words != -1:\n",
        "    word=Story[start_of_words:i+1]\n",
        "    words.add(word)\n",
        "    start_of_words=-1"
      ]
    },
    {
      "cell_type": "code",
      "execution_count": 5,
      "metadata": {
        "id": "dXP3un0aA_Cs"
      },
      "outputs": [],
      "source": [
        "answers={}"
      ]
    },
    {
      "cell_type": "code",
      "execution_count": 6,
      "metadata": {
        "colab": {
          "base_uri": "https://localhost:8080/"
        },
        "id": "fA2eK952BBTy",
        "outputId": "d3c31b24-221c-4083-cf14-3b6048882832"
      },
      "outputs": [
        {
          "name": "stdout",
          "output_type": "stream",
          "text": [
            "Enetr a word for <food item>: thana\n",
            "Enetr a word for <piece of clothing>: kurta\n",
            "Enetr a word for <animal>: dog\n",
            "Enetr a word for <number>: 69\n",
            "Enetr a word for <person>: Student\n",
            "Enetr a word for <tool or weapon>: tool\n",
            "Enetr a word for <day of the week>: 6\n",
            "Enetr a word for <exclamation>: !\n",
            "Enetr a word for <noun>: see\n",
            "Enetr a word for <verb>: go\n",
            "Enetr a word for <verb ending in -ing>: going\n",
            "Enetr a word for <vehicle>: bike\n",
            "Enetr a word for <place>: NewYork\n",
            "Enetr a word for <name>: Temp\n",
            "Enetr a word for <person (like teacher, doctor, etc.)>: Teacher\n",
            "Enetr a word for <adjective>: smile\n",
            "Enetr a word for <color>: re\n",
            "Enetr a word for <adverb>: read\n"
          ]
        }
      ],
      "source": [
        "for word in words:\n",
        "  answer=input('Enetr a word for '+ word + \": \")\n",
        "  answers[word]=answer\n",
        "\n",
        "for word in words:\n",
        "  Story=Story.replace(word,answers[word])"
      ]
    },
    {
      "cell_type": "code",
      "execution_count": 7,
      "metadata": {
        "colab": {
          "base_uri": "https://localhost:8080/"
        },
        "id": "0zKozmp1BiAE",
        "outputId": "eaf345ec-a854-404b-f403-77f379142dc9"
      },
      "outputs": [
        {
          "name": "stdout",
          "output_type": "stream",
          "text": [
            "Last 6, my friend Temp and I decided to go to the NewYork. \n",
            "When we got there, we saw a smile dog wearing a re kurta! \n",
            "The dog was going around the see while eating a thana. \n",
            "\n",
            "Suddenly, a smile Teacher appeared and shouted, \n",
            "\"!! That dog stole my see!\" \n",
            "\n",
            "Temp and I looked at each other and decided to go as read as possible. \n",
            "We ran through the NewYork for 69 minutes until we found a smile \n",
            "bike to hide behind.\n",
            "\n",
            "From there, we could see the dog going with a see \n",
            "in its mouth. The Student was chasing it while holding a tool. \n",
            "It was the most smile thing I had ever seen!\n",
            "\n",
            "Finally, the Student caught the dog and retrieved the stolen see. \n",
            "Everyone at the NewYork started going and cheering. \n",
            "Temp and I decided it was time to go home and eat some thana.\n",
            "\n",
            "What a smile day!\n"
          ]
        }
      ],
      "source": [
        "print(Story)"
      ]
    }
  ],
  "metadata": {
    "colab": {
      "provenance": []
    },
    "kernelspec": {
      "display_name": "Python 3",
      "name": "python3"
    },
    "language_info": {
      "name": "python"
    }
  },
  "nbformat": 4,
  "nbformat_minor": 0
}
